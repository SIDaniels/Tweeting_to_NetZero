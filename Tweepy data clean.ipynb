{
 "cells": [
  {
   "cell_type": "code",
   "execution_count": 28,
   "metadata": {},
   "outputs": [],
   "source": [
    "import re\n",
    "import string\n",
    "import pandas as pd"
   ]
  },
  {
   "cell_type": "code",
   "execution_count": null,
   "metadata": {},
   "outputs": [],
   "source": [
    "paged_results_df_cf_wk3=pd.read_csv('paged_results_df_cf_wk3.csv')\n",
    "paged_results_df_cn_wk3=pd.read_csv('paged_results_df_cn_wk3.csv')\n",
    "paged_results_df_test_wk3=pd.read_csv('paged_results_df_test_wk3.csv')\n",
    "paged_results_df_wk3=pd.read_csv('paged_results_df_wk3.csv')"
   ]
  },
  {
   "cell_type": "code",
   "execution_count": 24,
   "metadata": {},
   "outputs": [],
   "source": [
    "results_wk3=pd.concat([paged_results_df_cf_wk3,paged_results_df_cn_wk3, paged_results_df_test_wk3,paged_results_df_wk3], axis=0).reset_index()"
   ]
  },
  {
   "cell_type": "code",
   "execution_count": 25,
   "metadata": {},
   "outputs": [],
   "source": [
    "results_wk3 = results_wk3[results_wk3[\"text\"].str.contains(\"RT\") == False]#manually removing retweets because my query didn't work correctly."
   ]
  },
  {
   "cell_type": "code",
   "execution_count": 21,
   "metadata": {},
   "outputs": [
    {
     "data": {
      "text/html": [
       "<div>\n",
       "<style scoped>\n",
       "    .dataframe tbody tr th:only-of-type {\n",
       "        vertical-align: middle;\n",
       "    }\n",
       "\n",
       "    .dataframe tbody tr th {\n",
       "        vertical-align: top;\n",
       "    }\n",
       "\n",
       "    .dataframe thead th {\n",
       "        text-align: right;\n",
       "    }\n",
       "</style>\n",
       "<table border=\"1\" class=\"dataframe\">\n",
       "  <thead>\n",
       "    <tr style=\"text-align: right;\">\n",
       "      <th></th>\n",
       "      <th>public_metrics_retweet_count</th>\n",
       "      <th>public_metrics_reply_count</th>\n",
       "      <th>public_metrics_like_count</th>\n",
       "    </tr>\n",
       "  </thead>\n",
       "  <tbody>\n",
       "    <tr>\n",
       "      <th>count</th>\n",
       "      <td>31919.000000</td>\n",
       "      <td>31919.000000</td>\n",
       "      <td>31919.000000</td>\n",
       "    </tr>\n",
       "    <tr>\n",
       "      <th>mean</th>\n",
       "      <td>2.586359</td>\n",
       "      <td>1.008146</td>\n",
       "      <td>8.193928</td>\n",
       "    </tr>\n",
       "    <tr>\n",
       "      <th>std</th>\n",
       "      <td>67.077118</td>\n",
       "      <td>29.870499</td>\n",
       "      <td>163.334218</td>\n",
       "    </tr>\n",
       "    <tr>\n",
       "      <th>min</th>\n",
       "      <td>0.000000</td>\n",
       "      <td>0.000000</td>\n",
       "      <td>0.000000</td>\n",
       "    </tr>\n",
       "    <tr>\n",
       "      <th>25%</th>\n",
       "      <td>0.000000</td>\n",
       "      <td>0.000000</td>\n",
       "      <td>0.000000</td>\n",
       "    </tr>\n",
       "    <tr>\n",
       "      <th>50%</th>\n",
       "      <td>0.000000</td>\n",
       "      <td>0.000000</td>\n",
       "      <td>0.000000</td>\n",
       "    </tr>\n",
       "    <tr>\n",
       "      <th>75%</th>\n",
       "      <td>0.000000</td>\n",
       "      <td>0.000000</td>\n",
       "      <td>1.000000</td>\n",
       "    </tr>\n",
       "    <tr>\n",
       "      <th>max</th>\n",
       "      <td>5342.000000</td>\n",
       "      <td>3987.000000</td>\n",
       "      <td>11114.000000</td>\n",
       "    </tr>\n",
       "  </tbody>\n",
       "</table>\n",
       "</div>"
      ],
      "text/plain": [
       "       public_metrics_retweet_count  public_metrics_reply_count  \\\n",
       "count                  31919.000000                31919.000000   \n",
       "mean                       2.586359                    1.008146   \n",
       "std                       67.077118                   29.870499   \n",
       "min                        0.000000                    0.000000   \n",
       "25%                        0.000000                    0.000000   \n",
       "50%                        0.000000                    0.000000   \n",
       "75%                        0.000000                    0.000000   \n",
       "max                     5342.000000                 3987.000000   \n",
       "\n",
       "       public_metrics_like_count  \n",
       "count               31919.000000  \n",
       "mean                    8.193928  \n",
       "std                   163.334218  \n",
       "min                     0.000000  \n",
       "25%                     0.000000  \n",
       "50%                     0.000000  \n",
       "75%                     1.000000  \n",
       "max                 11114.000000  "
      ]
     },
     "execution_count": 21,
     "metadata": {},
     "output_type": "execute_result"
    }
   ],
   "source": [
    "results_wk3[['public_metrics_retweet_count','public_metrics_reply_count','public_metrics_like_count']].describe()\n",
    "#not a super retweetable or liked topic, I guess? Or maybe it's hard for things to go viral on twitter in this space. At any rate, it's highlyg skewed"
   ]
  },
  {
   "cell_type": "code",
   "execution_count": 22,
   "metadata": {},
   "outputs": [
    {
     "name": "stdout",
     "output_type": "stream",
     "text": [
      "<class 'pandas.core.frame.DataFrame'>\n",
      "Int64Index: 31919 entries, 0 to 122601\n",
      "Data columns (total 16 columns):\n",
      " #   Column                        Non-Null Count  Dtype \n",
      "---  ------                        --------------  ----- \n",
      " 0   index                         31919 non-null  int64 \n",
      " 1   text                          31919 non-null  object\n",
      " 2   edit_history_tweet_ids        31919 non-null  object\n",
      " 3   created_at                    31919 non-null  object\n",
      " 4   id                            31919 non-null  object\n",
      " 5   author_id                     31919 non-null  object\n",
      " 6   context_annotations           18665 non-null  object\n",
      " 7   public_metrics_retweet_count  31919 non-null  int64 \n",
      " 8   public_metrics_reply_count    31919 non-null  int64 \n",
      " 9   public_metrics_like_count     31919 non-null  int64 \n",
      " 10  public_metrics_quote_count    31919 non-null  int64 \n",
      " 11  geo_place_id                  425 non-null    object\n",
      " 12  geo_coordinates_type          1 non-null      object\n",
      " 13  geo_coordinates_coordinates   1 non-null      object\n",
      " 14  withheld_copyright            1 non-null      object\n",
      " 15  withheld_country_codes        1 non-null      object\n",
      "dtypes: int64(5), object(11)\n",
      "memory usage: 4.1+ MB\n"
     ]
    }
   ],
   "source": [
    "results_wk3.info()"
   ]
  },
  {
   "cell_type": "code",
   "execution_count": 26,
   "metadata": {},
   "outputs": [],
   "source": [
    "results_wk3=results_wk3.iloc[:,:11]"
   ]
  },
  {
   "cell_type": "code",
   "execution_count": 29,
   "metadata": {},
   "outputs": [],
   "source": [
    "results_wk3['hashtag'] = results_wk3['text'].apply(lambda x: re.findall(r\"#(\\w+)\", x)) #where did I find this again?"
   ]
  },
  {
   "cell_type": "markdown",
   "metadata": {},
   "source": [
    "Remove non-english language, hashtags, linebreaks, mentions, punctuation, upper case...etc."
   ]
  },
  {
   "cell_type": "code",
   "execution_count": 586,
   "metadata": {},
   "outputs": [
    {
     "name": "stdout",
     "output_type": "stream",
     "text": [
      "Collecting langdetect\n",
      "  Downloading langdetect-1.0.9.tar.gz (981 kB)\n",
      "\u001b[K     |████████████████████████████████| 981 kB 6.2 MB/s eta 0:00:01\n",
      "\u001b[?25hRequirement already satisfied: six in /Users/sidan/opt/anaconda3/envs/classification/lib/python3.8/site-packages (from langdetect) (1.16.0)\n",
      "Building wheels for collected packages: langdetect\n",
      "  Building wheel for langdetect (setup.py) ... \u001b[?25ldone\n",
      "\u001b[?25h  Created wheel for langdetect: filename=langdetect-1.0.9-py3-none-any.whl size=993242 sha256=46ab586b073881a52f18e38a64f409ce15a6e97ffbfc9ee49d141822bd4ea974\n",
      "  Stored in directory: /Users/sidan/Library/Caches/pip/wheels/13/c7/b0/79f66658626032e78fc1a83103690ef6797d551cb22e56e734\n",
      "Successfully built langdetect\n",
      "Installing collected packages: langdetect\n",
      "Successfully installed langdetect-1.0.9\n",
      "Note: you may need to restart the kernel to use updated packages.\n"
     ]
    }
   ],
   "source": [
    "pip install langdetect"
   ]
  },
  {
   "cell_type": "code",
   "execution_count": 30,
   "metadata": {},
   "outputs": [],
   "source": [
    "import langdetect"
   ]
  },
  {
   "cell_type": "code",
   "execution_count": 31,
   "metadata": {},
   "outputs": [],
   "source": [
    "from langdetect import detect\n",
    "\n",
    "def detect_english(text):\n",
    "    try:\n",
    "        return detect(text) == 'en'\n",
    "    except:\n",
    "        return False"
   ]
  },
  {
   "cell_type": "code",
   "execution_count": 32,
   "metadata": {},
   "outputs": [],
   "source": [
    "results_wk3= results_wk3[results_wk3['text'].apply(detect_english)]"
   ]
  },
  {
   "cell_type": "code",
   "execution_count": 604,
   "metadata": {},
   "outputs": [
    {
     "name": "stderr",
     "output_type": "stream",
     "text": [
      "/var/folders/s7/_b96xmkx3klbpc4y0sz29j0r0000gn/T/ipykernel_33359/863411640.py:8: SettingWithCopyWarning: \n",
      "A value is trying to be set on a copy of a slice from a DataFrame\n",
      "\n",
      "See the caveats in the documentation: https://pandas.pydata.org/pandas-docs/stable/user_guide/indexing.html#returning-a-view-versus-a-copy\n",
      "  results_week1_test.loc[i,'text_clean'] = p.clean(v)\n"
     ]
    }
   ],
   "source": [
    "#https://towardsdatascience.com/basic-tweet-preprocessing-in-python-efd8360d529e\n",
    "#this does not work - it skips rows for some reason. I needed to abandon it and use reg ex instead\n",
    "\n",
    "#remove emojis and urls (I could do hashtags too if I want later)\n",
    "#import preprocessor as p\n",
    "#p.set_options(p.OPT.URL, p.OPT.EMOJI) #https://pypi.org/project/tweet-preprocessor/\n",
    "#forming a separate feature for cleaned tweets\n",
    "#for i,v in enumerate(results_wk12_v2['text']):\n",
    "#    results_wk12_v2.loc[i,'text_clean'] = p.clean(v)\n"
   ]
  },
  {
   "cell_type": "code",
   "execution_count": 24,
   "metadata": {},
   "outputs": [
    {
     "name": "stdout",
     "output_type": "stream",
     "text": [
      "<class 'pandas.core.frame.DataFrame'>\n",
      "Int64Index: 40218 entries, 0 to 41943\n",
      "Data columns (total 13 columns):\n",
      " #   Column                        Non-Null Count  Dtype \n",
      "---  ------                        --------------  ----- \n",
      " 0   level_0                       40218 non-null  int64 \n",
      " 1   created_at                    40218 non-null  object\n",
      " 2   edit_history_tweet_ids        40218 non-null  object\n",
      " 3   id                            40218 non-null  int64 \n",
      " 4   text                          40218 non-null  object\n",
      " 5   context_annotations           24019 non-null  object\n",
      " 6   author_id                     40218 non-null  int64 \n",
      " 7   public_metrics_retweet_count  40218 non-null  int64 \n",
      " 8   public_metrics_reply_count    40218 non-null  int64 \n",
      " 9   public_metrics_like_count     40218 non-null  int64 \n",
      " 10  public_metrics_quote_count    40218 non-null  int64 \n",
      " 11  geo_place_id                  478 non-null    object\n",
      " 12  hashtag                       40218 non-null  object\n",
      "dtypes: int64(7), object(6)\n",
      "memory usage: 4.3+ MB\n"
     ]
    }
   ],
   "source": [
    "results_wk3.info()"
   ]
  },
  {
   "cell_type": "code",
   "execution_count": 621,
   "metadata": {},
   "outputs": [],
   "source": [
    "#didn't need to remove emojis, still seem to get results\n",
    "\n",
    "#import re\n",
    "#def remove_emoji(string):\n",
    "#    emoji_pattern = re.compile(\"[\"\n",
    "#                          u\"\\U0001F600-\\U0001F64F\" # emoticons\n",
    "#                          u\"\\U0001F300-\\U0001F5FF\" # symbols & pictographs\n",
    "#                           u\"\\U0001F680-\\U0001F6FF\" # transport & map symbols\n",
    "#                           u\"\\U0001F1E0-\\U0001F1FF\" # flags (iOS)\n",
    "#                           u\"\\U00002702-\\U000027B0\"\n",
    "#                           u\"\\U000024C2-\\U0001F251\"\n",
    "#                           \"]+\", flags=re.UNICODE)\n",
    "#    return emoji_pattern.sub(r'', string)\n"
   ]
  },
  {
   "cell_type": "code",
   "execution_count": 34,
   "metadata": {},
   "outputs": [],
   "source": [
    "#https://www.datasnips.com/59/remove-usernames-http-links-from-tweet-data/\n",
    "\n",
    "def remove_username_hash_links_linebreaks(tweet):\n",
    "    tweet = re.sub('@[^\\s]+','',tweet)\n",
    "    tweet = re.sub('#[^\\s]+','',tweet)\n",
    "    tweet = re.sub('http[^\\s]+','',tweet)\n",
    "    tweet = re.sub(\"[\\r\\n]\", \"\", tweet)\n",
    "    return tweet\n"
   ]
  },
  {
   "cell_type": "code",
   "execution_count": 33,
   "metadata": {},
   "outputs": [],
   "source": [
    "results_wk3=results_wk3.iloc[:,1:].reset_index()"
   ]
  },
  {
   "cell_type": "code",
   "execution_count": 35,
   "metadata": {},
   "outputs": [
    {
     "name": "stdout",
     "output_type": "stream",
     "text": [
      "<class 'pandas.core.frame.DataFrame'>\n",
      "RangeIndex: 28849 entries, 0 to 28848\n",
      "Data columns (total 12 columns):\n",
      " #   Column                        Non-Null Count  Dtype \n",
      "---  ------                        --------------  ----- \n",
      " 0   index                         28849 non-null  int64 \n",
      " 1   text                          28849 non-null  object\n",
      " 2   edit_history_tweet_ids        28849 non-null  object\n",
      " 3   created_at                    28849 non-null  object\n",
      " 4   id                            28849 non-null  object\n",
      " 5   author_id                     28849 non-null  object\n",
      " 6   context_annotations           17663 non-null  object\n",
      " 7   public_metrics_retweet_count  28849 non-null  int64 \n",
      " 8   public_metrics_reply_count    28849 non-null  int64 \n",
      " 9   public_metrics_like_count     28849 non-null  int64 \n",
      " 10  public_metrics_quote_count    28849 non-null  int64 \n",
      " 11  hashtag                       28849 non-null  object\n",
      "dtypes: int64(5), object(7)\n",
      "memory usage: 2.6+ MB\n"
     ]
    }
   ],
   "source": [
    "results_wk3.info()"
   ]
  },
  {
   "cell_type": "code",
   "execution_count": 36,
   "metadata": {},
   "outputs": [],
   "source": [
    "results_wk3['text_no_url'] = results_wk3['text'].astype(str)#"
   ]
  },
  {
   "cell_type": "code",
   "execution_count": 39,
   "metadata": {},
   "outputs": [
    {
     "data": {
      "text/html": [
       "<div>\n",
       "<style scoped>\n",
       "    .dataframe tbody tr th:only-of-type {\n",
       "        vertical-align: middle;\n",
       "    }\n",
       "\n",
       "    .dataframe tbody tr th {\n",
       "        vertical-align: top;\n",
       "    }\n",
       "\n",
       "    .dataframe thead th {\n",
       "        text-align: right;\n",
       "    }\n",
       "</style>\n",
       "<table border=\"1\" class=\"dataframe\">\n",
       "  <thead>\n",
       "    <tr style=\"text-align: right;\">\n",
       "      <th></th>\n",
       "      <th>text_no_url</th>\n",
       "      <th>text</th>\n",
       "    </tr>\n",
       "  </thead>\n",
       "  <tbody>\n",
       "    <tr>\n",
       "      <th>26360</th>\n",
       "      <td>#Shell $SHEL Shell to explore carbon transport...</td>\n",
       "      <td>#Shell $SHEL Shell to explore carbon transport...</td>\n",
       "    </tr>\n",
       "    <tr>\n",
       "      <th>26361</th>\n",
       "      <td>@SBakerMD Yeah but corporations buy carbon poi...</td>\n",
       "      <td>@SBakerMD Yeah but corporations buy carbon poi...</td>\n",
       "    </tr>\n",
       "    <tr>\n",
       "      <th>26362</th>\n",
       "      <td>@backtolife_2023 The first carbon tracking cre...</td>\n",
       "      <td>@backtolife_2023 The first carbon tracking cre...</td>\n",
       "    </tr>\n",
       "    <tr>\n",
       "      <th>26363</th>\n",
       "      <td>@Doctorfromliny Canada's First Carbon Tracking...</td>\n",
       "      <td>@Doctorfromliny Canada's First Carbon Tracking...</td>\n",
       "    </tr>\n",
       "    <tr>\n",
       "      <th>26364</th>\n",
       "      <td>How many of you worry about carbon offset when...</td>\n",
       "      <td>How many of you worry about carbon offset when...</td>\n",
       "    </tr>\n",
       "    <tr>\n",
       "      <th>26365</th>\n",
       "      <td>Rigorous attempt to quantify the potential of ...</td>\n",
       "      <td>Rigorous attempt to quantify the potential of ...</td>\n",
       "    </tr>\n",
       "    <tr>\n",
       "      <th>26366</th>\n",
       "      <td>Caitlin\\non @VoiceHQ\\n\\n@VoiceNFT \\n♻️ Carbon ...</td>\n",
       "      <td>Caitlin\\non @VoiceHQ\\n\\n@VoiceNFT \\n♻️ Carbon ...</td>\n",
       "    </tr>\n",
       "    <tr>\n",
       "      <th>26367</th>\n",
       "      <td>Designed to bring transparency to carbon offse...</td>\n",
       "      <td>Designed to bring transparency to carbon offse...</td>\n",
       "    </tr>\n",
       "    <tr>\n",
       "      <th>26368</th>\n",
       "      <td>Filecoin Launches Filecoin Green, a Carbon Off...</td>\n",
       "      <td>Filecoin Launches Filecoin Green, a Carbon Off...</td>\n",
       "    </tr>\n",
       "    <tr>\n",
       "      <th>26369</th>\n",
       "      <td>🌟 @regen_network - the longest-running blockch...</td>\n",
       "      <td>🌟 @regen_network - the longest-running blockch...</td>\n",
       "    </tr>\n",
       "    <tr>\n",
       "      <th>26370</th>\n",
       "      <td>📊 @KlimaDAO - a carbon-backed currency project...</td>\n",
       "      <td>📊 @KlimaDAO - a carbon-backed currency project...</td>\n",
       "    </tr>\n",
       "    <tr>\n",
       "      <th>26371</th>\n",
       "      <td>🍣 @SushiSwap - a leading decentralized exchang...</td>\n",
       "      <td>🍣 @SushiSwap - a leading decentralized exchang...</td>\n",
       "    </tr>\n",
       "    <tr>\n",
       "      <th>26372</th>\n",
       "      <td>🌉 @thallo_io - a London-based Web3 startup, pa...</td>\n",
       "      <td>🌉 @thallo_io - a London-based Web3 startup, pa...</td>\n",
       "    </tr>\n",
       "    <tr>\n",
       "      <th>26373</th>\n",
       "      <td>🛒 @imptoken - a Web3 platform that allows cons...</td>\n",
       "      <td>🛒 @imptoken - a Web3 platform that allows cons...</td>\n",
       "    </tr>\n",
       "    <tr>\n",
       "      <th>26374</th>\n",
       "      <td>@Resist_05 A carbon credit score?  So you’re n...</td>\n",
       "      <td>@Resist_05 A carbon credit score?  So you’re n...</td>\n",
       "    </tr>\n",
       "    <tr>\n",
       "      <th>26375</th>\n",
       "      <td>FTK 100pcs/box Fishing Hooks 1#-10# High Carbo...</td>\n",
       "      <td>FTK 100pcs/box Fishing Hooks 1#-10# High Carbo...</td>\n",
       "    </tr>\n",
       "    <tr>\n",
       "      <th>26376</th>\n",
       "      <td>Without regulation, we’ll never know if carbon...</td>\n",
       "      <td>Without regulation, we’ll never know if carbon...</td>\n",
       "    </tr>\n",
       "    <tr>\n",
       "      <th>26377</th>\n",
       "      <td>@bobbyfijan Sustainability, reducing carbon em...</td>\n",
       "      <td>@bobbyfijan Sustainability, reducing carbon em...</td>\n",
       "    </tr>\n",
       "    <tr>\n",
       "      <th>26378</th>\n",
       "      <td>Bill C10/C11 control what you can say, watch, ...</td>\n",
       "      <td>Bill C10/C11 control what you can say, watch, ...</td>\n",
       "    </tr>\n",
       "    <tr>\n",
       "      <th>26379</th>\n",
       "      <td>@Sully_FF @jflory204 @ThunderBayEd @PierrePoil...</td>\n",
       "      <td>@Sully_FF @jflory204 @ThunderBayEd @PierrePoil...</td>\n",
       "    </tr>\n",
       "  </tbody>\n",
       "</table>\n",
       "</div>"
      ],
      "text/plain": [
       "                                             text_no_url  \\\n",
       "26360  #Shell $SHEL Shell to explore carbon transport...   \n",
       "26361  @SBakerMD Yeah but corporations buy carbon poi...   \n",
       "26362  @backtolife_2023 The first carbon tracking cre...   \n",
       "26363  @Doctorfromliny Canada's First Carbon Tracking...   \n",
       "26364  How many of you worry about carbon offset when...   \n",
       "26365  Rigorous attempt to quantify the potential of ...   \n",
       "26366  Caitlin\\non @VoiceHQ\\n\\n@VoiceNFT \\n♻️ Carbon ...   \n",
       "26367  Designed to bring transparency to carbon offse...   \n",
       "26368  Filecoin Launches Filecoin Green, a Carbon Off...   \n",
       "26369  🌟 @regen_network - the longest-running blockch...   \n",
       "26370  📊 @KlimaDAO - a carbon-backed currency project...   \n",
       "26371  🍣 @SushiSwap - a leading decentralized exchang...   \n",
       "26372  🌉 @thallo_io - a London-based Web3 startup, pa...   \n",
       "26373  🛒 @imptoken - a Web3 platform that allows cons...   \n",
       "26374  @Resist_05 A carbon credit score?  So you’re n...   \n",
       "26375  FTK 100pcs/box Fishing Hooks 1#-10# High Carbo...   \n",
       "26376  Without regulation, we’ll never know if carbon...   \n",
       "26377  @bobbyfijan Sustainability, reducing carbon em...   \n",
       "26378  Bill C10/C11 control what you can say, watch, ...   \n",
       "26379  @Sully_FF @jflory204 @ThunderBayEd @PierrePoil...   \n",
       "\n",
       "                                                    text  \n",
       "26360  #Shell $SHEL Shell to explore carbon transport...  \n",
       "26361  @SBakerMD Yeah but corporations buy carbon poi...  \n",
       "26362  @backtolife_2023 The first carbon tracking cre...  \n",
       "26363  @Doctorfromliny Canada's First Carbon Tracking...  \n",
       "26364  How many of you worry about carbon offset when...  \n",
       "26365  Rigorous attempt to quantify the potential of ...  \n",
       "26366  Caitlin\\non @VoiceHQ\\n\\n@VoiceNFT \\n♻️ Carbon ...  \n",
       "26367  Designed to bring transparency to carbon offse...  \n",
       "26368  Filecoin Launches Filecoin Green, a Carbon Off...  \n",
       "26369  🌟 @regen_network - the longest-running blockch...  \n",
       "26370  📊 @KlimaDAO - a carbon-backed currency project...  \n",
       "26371  🍣 @SushiSwap - a leading decentralized exchang...  \n",
       "26372  🌉 @thallo_io - a London-based Web3 startup, pa...  \n",
       "26373  🛒 @imptoken - a Web3 platform that allows cons...  \n",
       "26374  @Resist_05 A carbon credit score?  So you’re n...  \n",
       "26375  FTK 100pcs/box Fishing Hooks 1#-10# High Carbo...  \n",
       "26376  Without regulation, we’ll never know if carbon...  \n",
       "26377  @bobbyfijan Sustainability, reducing carbon em...  \n",
       "26378  Bill C10/C11 control what you can say, watch, ...  \n",
       "26379  @Sully_FF @jflory204 @ThunderBayEd @PierrePoil...  "
      ]
     },
     "execution_count": 39,
     "metadata": {},
     "output_type": "execute_result"
    }
   ],
   "source": [
    "results_wk3[['text_no_url', 'text']].iloc[26360:26380] "
   ]
  },
  {
   "cell_type": "code",
   "execution_count": 40,
   "metadata": {},
   "outputs": [],
   "source": [
    "results_wk3['text_no_url']= results_wk3['text_no_url'].apply(remove_username_hash_links_linebreaks)"
   ]
  },
  {
   "cell_type": "code",
   "execution_count": 41,
   "metadata": {},
   "outputs": [
    {
     "data": {
      "text/html": [
       "<div>\n",
       "<style scoped>\n",
       "    .dataframe tbody tr th:only-of-type {\n",
       "        vertical-align: middle;\n",
       "    }\n",
       "\n",
       "    .dataframe tbody tr th {\n",
       "        vertical-align: top;\n",
       "    }\n",
       "\n",
       "    .dataframe thead th {\n",
       "        text-align: right;\n",
       "    }\n",
       "</style>\n",
       "<table border=\"1\" class=\"dataframe\">\n",
       "  <thead>\n",
       "    <tr style=\"text-align: right;\">\n",
       "      <th></th>\n",
       "      <th>text</th>\n",
       "      <th>text_no_url</th>\n",
       "    </tr>\n",
       "  </thead>\n",
       "  <tbody>\n",
       "    <tr>\n",
       "      <th>0</th>\n",
       "      <td>@CryptoTitans1 @rfntoken I believe in social, ...</td>\n",
       "      <td>I believe in social, economic and environmen...</td>\n",
       "    </tr>\n",
       "    <tr>\n",
       "      <th>1</th>\n",
       "      <td>\"Professional All Plastic Trigger Sprayer\"\\n📊I...</td>\n",
       "      <td>\"Professional All Plastic Trigger Sprayer\"📊It ...</td>\n",
       "    </tr>\n",
       "    <tr>\n",
       "      <th>2</th>\n",
       "      <td>@JamieStickman @olgatokariuk @POTUS You call y...</td>\n",
       "      <td>You call yourself an environmentalist and y...</td>\n",
       "    </tr>\n",
       "    <tr>\n",
       "      <th>3</th>\n",
       "      <td>@algore You’re irrelevant please keep quiet. I...</td>\n",
       "      <td>You’re irrelevant please keep quiet. It’ll he...</td>\n",
       "    </tr>\n",
       "    <tr>\n",
       "      <th>4</th>\n",
       "      <td>Hey green thumbs! Your number one un-green com...</td>\n",
       "      <td>Hey green thumbs! Your number one un-green com...</td>\n",
       "    </tr>\n",
       "    <tr>\n",
       "      <th>5</th>\n",
       "      <td>Don’t you get it? Brick and mortar schools hav...</td>\n",
       "      <td>Don’t you get it? Brick and mortar schools hav...</td>\n",
       "    </tr>\n",
       "    <tr>\n",
       "      <th>6</th>\n",
       "      <td>One just tracks your carbon footprint as you s...</td>\n",
       "      <td>One just tracks your carbon footprint as you s...</td>\n",
       "    </tr>\n",
       "    <tr>\n",
       "      <th>7</th>\n",
       "      <td>Like Ted, she’s a despicable waste of a carbon...</td>\n",
       "      <td>Like Ted, she’s a despicable waste of a carbon...</td>\n",
       "    </tr>\n",
       "    <tr>\n",
       "      <th>8</th>\n",
       "      <td>Your carbon footprint is a LIE. https://t.co/b...</td>\n",
       "      <td>Your carbon footprint is a LIE.  via</td>\n",
       "    </tr>\n",
       "    <tr>\n",
       "      <th>9</th>\n",
       "      <td>@libsoftiktok Wowzer the carbon footprint she has</td>\n",
       "      <td>Wowzer the carbon footprint she has</td>\n",
       "    </tr>\n",
       "    <tr>\n",
       "      <th>10</th>\n",
       "      <td>@rajuparulekar @BabariaJaidip Who told you tha...</td>\n",
       "      <td>Who told you that semiconductor plants don't...</td>\n",
       "    </tr>\n",
       "    <tr>\n",
       "      <th>11</th>\n",
       "      <td>Want to join a company that continues to reduc...</td>\n",
       "      <td>Want to join a company that continues to reduc...</td>\n",
       "    </tr>\n",
       "    <tr>\n",
       "      <th>12</th>\n",
       "      <td>@brixwe @Redwave1957 Thats easy, if other coun...</td>\n",
       "      <td>Thats easy, if other countries contribute to...</td>\n",
       "    </tr>\n",
       "    <tr>\n",
       "      <th>13</th>\n",
       "      <td>@agathe_decanson Amazing that they now have th...</td>\n",
       "      <td>Amazing that they now have these events every...</td>\n",
       "    </tr>\n",
       "    <tr>\n",
       "      <th>14</th>\n",
       "      <td>And here we go folks CBDC launches in Australi...</td>\n",
       "      <td>And here we go folks CBDC launches in Australi...</td>\n",
       "    </tr>\n",
       "    <tr>\n",
       "      <th>15</th>\n",
       "      <td>@beldorney08 @farhanagani11 @tomwatson Such lo...</td>\n",
       "      <td>Such lovely words, \"Carbon Footprint\".  Exa...</td>\n",
       "    </tr>\n",
       "    <tr>\n",
       "      <th>16</th>\n",
       "      <td>@Snowden Each cryptocurrency transaction has a...</td>\n",
       "      <td>Each cryptocurrency transaction has a carbon ...</td>\n",
       "    </tr>\n",
       "    <tr>\n",
       "      <th>17</th>\n",
       "      <td>@GingeBlakes @IndiaWilloughby Well he is right...</td>\n",
       "      <td>Well he is right… You guys are ALWAYS talkin...</td>\n",
       "    </tr>\n",
       "    <tr>\n",
       "      <th>18</th>\n",
       "      <td>@CKellyUAP Or how they’ll track you carbon foo...</td>\n",
       "      <td>Or how they’ll track you carbon footprint to ...</td>\n",
       "    </tr>\n",
       "    <tr>\n",
       "      <th>19</th>\n",
       "      <td>@LeoDiCaprio Leo has one of the LARGEST carbon...</td>\n",
       "      <td>Leo has one of the LARGEST carbon footprints ...</td>\n",
       "    </tr>\n",
       "    <tr>\n",
       "      <th>20</th>\n",
       "      <td>@LeoDiCaprio Brah stick to acting. What roughl...</td>\n",
       "      <td>Brah stick to acting. What roughly is your ca...</td>\n",
       "    </tr>\n",
       "    <tr>\n",
       "      <th>21</th>\n",
       "      <td>@FLOTUS What was @potus carbon  footprint  for...</td>\n",
       "      <td>What was  carbon  footprint  for his desperat...</td>\n",
       "    </tr>\n",
       "    <tr>\n",
       "      <th>22</th>\n",
       "      <td>Hello environmentalists! The well known damagi...</td>\n",
       "      <td>Hello environmentalists! The well known damagi...</td>\n",
       "    </tr>\n",
       "    <tr>\n",
       "      <th>23</th>\n",
       "      <td>@theJeremyVine @GretaThunberg Her carbon footp...</td>\n",
       "      <td>Her carbon footprint must be astronomical.  ...</td>\n",
       "    </tr>\n",
       "    <tr>\n",
       "      <th>24</th>\n",
       "      <td>@wolfonaire @oasys_games I believe in social, ...</td>\n",
       "      <td>I believe in social, economic and environmen...</td>\n",
       "    </tr>\n",
       "    <tr>\n",
       "      <th>25</th>\n",
       "      <td>@liberal_party What a joke. How many are you f...</td>\n",
       "      <td>What a joke. How many are you flying to the w...</td>\n",
       "    </tr>\n",
       "    <tr>\n",
       "      <th>26</th>\n",
       "      <td>@csilverandgold walking is a really nice way t...</td>\n",
       "      <td>walking is a really nice way to get around, g...</td>\n",
       "    </tr>\n",
       "    <tr>\n",
       "      <th>27</th>\n",
       "      <td>@wolfonaire @oasys_games I believe in social, ...</td>\n",
       "      <td>I believe in social, economic and environmen...</td>\n",
       "    </tr>\n",
       "    <tr>\n",
       "      <th>28</th>\n",
       "      <td>@liberal_party Cuz it’s a hoax. Look how clima...</td>\n",
       "      <td>Cuz it’s a hoax. Look how climate naturally c...</td>\n",
       "    </tr>\n",
       "    <tr>\n",
       "      <th>29</th>\n",
       "      <td>@wolfonaire @oasys_games I believe in social, ...</td>\n",
       "      <td>I believe in social, economic and environmen...</td>\n",
       "    </tr>\n",
       "    <tr>\n",
       "      <th>30</th>\n",
       "      <td>Hello green thumbs! The well known toxic compa...</td>\n",
       "      <td>Hello green thumbs! The well known toxic compa...</td>\n",
       "    </tr>\n",
       "    <tr>\n",
       "      <th>31</th>\n",
       "      <td>At Holland 1916 we're reducing our carbon foot...</td>\n",
       "      <td>At Holland 1916 we're reducing our carbon foot...</td>\n",
       "    </tr>\n",
       "    <tr>\n",
       "      <th>32</th>\n",
       "      <td>@JackWomack17 @briantylercohen And the carbon ...</td>\n",
       "      <td>And the carbon footprint</td>\n",
       "    </tr>\n",
       "    <tr>\n",
       "      <th>33</th>\n",
       "      <td>@ZeroDarkKitty How stoooopid does one have to ...</td>\n",
       "      <td>How stoooopid does one have to be ? 1st to li...</td>\n",
       "    </tr>\n",
       "    <tr>\n",
       "      <th>34</th>\n",
       "      <td>Upcoming Light Carbon Footprint workshop - htt...</td>\n",
       "      <td>Upcoming Light Carbon Footprint workshop -</td>\n",
       "    </tr>\n",
       "    <tr>\n",
       "      <th>35</th>\n",
       "      <td>@lanceh1958_ @liberal_party 1.5% global carbon...</td>\n",
       "      <td>1.5% global carbon footprint. Yup that will ...</td>\n",
       "    </tr>\n",
       "    <tr>\n",
       "      <th>36</th>\n",
       "      <td>@mysterys_girl not anymore ;-; they stopped ha...</td>\n",
       "      <td>not anymore ;-; they stopped handing that out...</td>\n",
       "    </tr>\n",
       "    <tr>\n",
       "      <th>37</th>\n",
       "      <td>@CryptoTitans1 @rfntoken In my opinion, blockc...</td>\n",
       "      <td>In my opinion, blockchain is often one of th...</td>\n",
       "    </tr>\n",
       "    <tr>\n",
       "      <th>38</th>\n",
       "      <td>@RNCResearch Every Democrat voter should be fo...</td>\n",
       "      <td>Every Democrat voter should be forced to have...</td>\n",
       "    </tr>\n",
       "    <tr>\n",
       "      <th>39</th>\n",
       "      <td>@CryptoTitans1 @rfntoken I believe in social, ...</td>\n",
       "      <td>I believe in social, economic and environmen...</td>\n",
       "    </tr>\n",
       "  </tbody>\n",
       "</table>\n",
       "</div>"
      ],
      "text/plain": [
       "                                                 text  \\\n",
       "0   @CryptoTitans1 @rfntoken I believe in social, ...   \n",
       "1   \"Professional All Plastic Trigger Sprayer\"\\n📊I...   \n",
       "2   @JamieStickman @olgatokariuk @POTUS You call y...   \n",
       "3   @algore You’re irrelevant please keep quiet. I...   \n",
       "4   Hey green thumbs! Your number one un-green com...   \n",
       "5   Don’t you get it? Brick and mortar schools hav...   \n",
       "6   One just tracks your carbon footprint as you s...   \n",
       "7   Like Ted, she’s a despicable waste of a carbon...   \n",
       "8   Your carbon footprint is a LIE. https://t.co/b...   \n",
       "9   @libsoftiktok Wowzer the carbon footprint she has   \n",
       "10  @rajuparulekar @BabariaJaidip Who told you tha...   \n",
       "11  Want to join a company that continues to reduc...   \n",
       "12  @brixwe @Redwave1957 Thats easy, if other coun...   \n",
       "13  @agathe_decanson Amazing that they now have th...   \n",
       "14  And here we go folks CBDC launches in Australi...   \n",
       "15  @beldorney08 @farhanagani11 @tomwatson Such lo...   \n",
       "16  @Snowden Each cryptocurrency transaction has a...   \n",
       "17  @GingeBlakes @IndiaWilloughby Well he is right...   \n",
       "18  @CKellyUAP Or how they’ll track you carbon foo...   \n",
       "19  @LeoDiCaprio Leo has one of the LARGEST carbon...   \n",
       "20  @LeoDiCaprio Brah stick to acting. What roughl...   \n",
       "21  @FLOTUS What was @potus carbon  footprint  for...   \n",
       "22  Hello environmentalists! The well known damagi...   \n",
       "23  @theJeremyVine @GretaThunberg Her carbon footp...   \n",
       "24  @wolfonaire @oasys_games I believe in social, ...   \n",
       "25  @liberal_party What a joke. How many are you f...   \n",
       "26  @csilverandgold walking is a really nice way t...   \n",
       "27  @wolfonaire @oasys_games I believe in social, ...   \n",
       "28  @liberal_party Cuz it’s a hoax. Look how clima...   \n",
       "29  @wolfonaire @oasys_games I believe in social, ...   \n",
       "30  Hello green thumbs! The well known toxic compa...   \n",
       "31  At Holland 1916 we're reducing our carbon foot...   \n",
       "32  @JackWomack17 @briantylercohen And the carbon ...   \n",
       "33  @ZeroDarkKitty How stoooopid does one have to ...   \n",
       "34  Upcoming Light Carbon Footprint workshop - htt...   \n",
       "35  @lanceh1958_ @liberal_party 1.5% global carbon...   \n",
       "36  @mysterys_girl not anymore ;-; they stopped ha...   \n",
       "37  @CryptoTitans1 @rfntoken In my opinion, blockc...   \n",
       "38  @RNCResearch Every Democrat voter should be fo...   \n",
       "39  @CryptoTitans1 @rfntoken I believe in social, ...   \n",
       "\n",
       "                                          text_no_url  \n",
       "0     I believe in social, economic and environmen...  \n",
       "1   \"Professional All Plastic Trigger Sprayer\"📊It ...  \n",
       "2      You call yourself an environmentalist and y...  \n",
       "3    You’re irrelevant please keep quiet. It’ll he...  \n",
       "4   Hey green thumbs! Your number one un-green com...  \n",
       "5   Don’t you get it? Brick and mortar schools hav...  \n",
       "6   One just tracks your carbon footprint as you s...  \n",
       "7   Like Ted, she’s a despicable waste of a carbon...  \n",
       "8               Your carbon footprint is a LIE.  via   \n",
       "9                 Wowzer the carbon footprint she has  \n",
       "10    Who told you that semiconductor plants don't...  \n",
       "11  Want to join a company that continues to reduc...  \n",
       "12    Thats easy, if other countries contribute to...  \n",
       "13   Amazing that they now have these events every...  \n",
       "14  And here we go folks CBDC launches in Australi...  \n",
       "15     Such lovely words, \"Carbon Footprint\".  Exa...  \n",
       "16   Each cryptocurrency transaction has a carbon ...  \n",
       "17    Well he is right… You guys are ALWAYS talkin...  \n",
       "18   Or how they’ll track you carbon footprint to ...  \n",
       "19   Leo has one of the LARGEST carbon footprints ...  \n",
       "20   Brah stick to acting. What roughly is your ca...  \n",
       "21   What was  carbon  footprint  for his desperat...  \n",
       "22  Hello environmentalists! The well known damagi...  \n",
       "23    Her carbon footprint must be astronomical.  ...  \n",
       "24    I believe in social, economic and environmen...  \n",
       "25   What a joke. How many are you flying to the w...  \n",
       "26   walking is a really nice way to get around, g...  \n",
       "27    I believe in social, economic and environmen...  \n",
       "28   Cuz it’s a hoax. Look how climate naturally c...  \n",
       "29    I believe in social, economic and environmen...  \n",
       "30  Hello green thumbs! The well known toxic compa...  \n",
       "31  At Holland 1916 we're reducing our carbon foot...  \n",
       "32                           And the carbon footprint  \n",
       "33   How stoooopid does one have to be ? 1st to li...  \n",
       "34       Upcoming Light Carbon Footprint workshop -    \n",
       "35    1.5% global carbon footprint. Yup that will ...  \n",
       "36   not anymore ;-; they stopped handing that out...  \n",
       "37    In my opinion, blockchain is often one of th...  \n",
       "38   Every Democrat voter should be forced to have...  \n",
       "39    I believe in social, economic and environmen...  "
      ]
     },
     "execution_count": 41,
     "metadata": {},
     "output_type": "execute_result"
    }
   ],
   "source": [
    "results_wk3[['text','text_no_url']].head(40)"
   ]
  },
  {
   "cell_type": "code",
   "execution_count": 42,
   "metadata": {},
   "outputs": [],
   "source": [
    "#remove punctuation (from metis)\n",
    "results_wk3['text_no_punc'] = results_wk3.text_no_url.map(lambda x: re.sub('[%s]' % re.escape(string.punctuation), ' ', x))"
   ]
  },
  {
   "cell_type": "code",
   "execution_count": 43,
   "metadata": {},
   "outputs": [],
   "source": [
    "results_wk3['text_no_punc_lower'] = results_wk3.text_no_punc.str.lower()"
   ]
  },
  {
   "cell_type": "code",
   "execution_count": 44,
   "metadata": {},
   "outputs": [
    {
     "name": "stderr",
     "output_type": "stream",
     "text": [
      "/var/folders/s7/_b96xmkx3klbpc4y0sz29j0r0000gn/T/ipykernel_90435/535834930.py:3: FutureWarning: The default value of regex will change from True to False in a future version.\n",
      "  results_wk3['text_no_punc_lower_no_dig']  = results_wk3.text_no_punc_lower.astype(str).str.replace('\\d+', '')\n"
     ]
    }
   ],
   "source": [
    "#https://towardsdatascience.com/basic-tweet-preprocessing-in-python-efd8360d529e\n",
    "# remove numbers too? (alittle worried about doing this)\n",
    "results_wk3['text_no_punc_lower_no_dig']  = results_wk3.text_no_punc_lower.astype(str).str.replace('\\d+', '')"
   ]
  },
  {
   "cell_type": "code",
   "execution_count": 45,
   "metadata": {},
   "outputs": [
    {
     "name": "stdout",
     "output_type": "stream",
     "text": [
      "<class 'pandas.core.frame.DataFrame'>\n",
      "RangeIndex: 28849 entries, 0 to 28848\n",
      "Data columns (total 16 columns):\n",
      " #   Column                        Non-Null Count  Dtype \n",
      "---  ------                        --------------  ----- \n",
      " 0   index                         28849 non-null  int64 \n",
      " 1   text                          28849 non-null  object\n",
      " 2   edit_history_tweet_ids        28849 non-null  object\n",
      " 3   created_at                    28849 non-null  object\n",
      " 4   id                            28849 non-null  object\n",
      " 5   author_id                     28849 non-null  object\n",
      " 6   context_annotations           17663 non-null  object\n",
      " 7   public_metrics_retweet_count  28849 non-null  int64 \n",
      " 8   public_metrics_reply_count    28849 non-null  int64 \n",
      " 9   public_metrics_like_count     28849 non-null  int64 \n",
      " 10  public_metrics_quote_count    28849 non-null  int64 \n",
      " 11  hashtag                       28849 non-null  object\n",
      " 12  text_no_url                   28849 non-null  object\n",
      " 13  text_no_punc                  28849 non-null  object\n",
      " 14  text_no_punc_lower            28849 non-null  object\n",
      " 15  text_no_punc_lower_no_dig     28849 non-null  object\n",
      "dtypes: int64(5), object(11)\n",
      "memory usage: 3.5+ MB\n"
     ]
    }
   ],
   "source": [
    "results_wk3.info()"
   ]
  },
  {
   "cell_type": "code",
   "execution_count": 46,
   "metadata": {},
   "outputs": [
    {
     "data": {
      "text/plain": [
       "0"
      ]
     },
     "execution_count": 46,
     "metadata": {},
     "output_type": "execute_result"
    }
   ],
   "source": [
    "results_wk3[\"text_no_punc_lower_no_dig\"].isnull().sum()"
   ]
  },
  {
   "cell_type": "markdown",
   "metadata": {},
   "source": [
    "Remove Duplicates"
   ]
  },
  {
   "cell_type": "code",
   "execution_count": 47,
   "metadata": {},
   "outputs": [],
   "source": [
    "duplicates=results_wk3[results_wk3.text.duplicated()].sort_values(\"text\") #these are all the duplicate version (not both versions), so if things are listed twice in the full dataset, they only show-up once here "
   ]
  },
  {
   "cell_type": "code",
   "execution_count": 48,
   "metadata": {},
   "outputs": [],
   "source": [
    "duplicates2=results_wk3[results_wk3.text_no_url.duplicated()].sort_values(\"text_no_url\") "
   ]
  },
  {
   "cell_type": "code",
   "execution_count": 49,
   "metadata": {},
   "outputs": [],
   "source": [
    "duplicates3=results_wk3[results_wk3.text_no_punc.duplicated()].sort_values(\"text_no_punc\") "
   ]
  },
  {
   "cell_type": "code",
   "execution_count": 50,
   "metadata": {},
   "outputs": [
    {
     "name": "stdout",
     "output_type": "stream",
     "text": [
      "<class 'pandas.core.frame.DataFrame'>\n",
      "Int64Index: 3706 entries, 12577 to 22495\n",
      "Data columns (total 16 columns):\n",
      " #   Column                        Non-Null Count  Dtype \n",
      "---  ------                        --------------  ----- \n",
      " 0   index                         3706 non-null   int64 \n",
      " 1   text                          3706 non-null   object\n",
      " 2   edit_history_tweet_ids        3706 non-null   object\n",
      " 3   created_at                    3706 non-null   object\n",
      " 4   id                            3706 non-null   object\n",
      " 5   author_id                     3706 non-null   object\n",
      " 6   context_annotations           2272 non-null   object\n",
      " 7   public_metrics_retweet_count  3706 non-null   int64 \n",
      " 8   public_metrics_reply_count    3706 non-null   int64 \n",
      " 9   public_metrics_like_count     3706 non-null   int64 \n",
      " 10  public_metrics_quote_count    3706 non-null   int64 \n",
      " 11  hashtag                       3706 non-null   object\n",
      " 12  text_no_url                   3706 non-null   object\n",
      " 13  text_no_punc                  3706 non-null   object\n",
      " 14  text_no_punc_lower            3706 non-null   object\n",
      " 15  text_no_punc_lower_no_dig     3706 non-null   object\n",
      "dtypes: int64(5), object(11)\n",
      "memory usage: 492.2+ KB\n"
     ]
    }
   ],
   "source": [
    "duplicates3.info()"
   ]
  },
  {
   "cell_type": "code",
   "execution_count": 51,
   "metadata": {},
   "outputs": [],
   "source": [
    "results_wk3=results_wk3.drop_duplicates(subset=['text_no_url'],keep='first')"
   ]
  },
  {
   "cell_type": "code",
   "execution_count": 52,
   "metadata": {},
   "outputs": [],
   "source": [
    "results_wk3=results_wk3.drop_duplicates(subset=['text_no_punc'],keep='first')"
   ]
  },
  {
   "cell_type": "code",
   "execution_count": 53,
   "metadata": {},
   "outputs": [],
   "source": [
    "results_wk3=results_wk3.drop_duplicates(subset=['text_no_punc_lower'],keep='first')"
   ]
  },
  {
   "cell_type": "code",
   "execution_count": 54,
   "metadata": {},
   "outputs": [],
   "source": [
    "results_wk3=results_wk3.drop_duplicates(subset=['text_no_punc_lower_no_dig'],keep='first')"
   ]
  },
  {
   "cell_type": "code",
   "execution_count": 55,
   "metadata": {},
   "outputs": [
    {
     "name": "stdout",
     "output_type": "stream",
     "text": [
      "<class 'pandas.core.frame.DataFrame'>\n",
      "Int64Index: 25104 entries, 0 to 28848\n",
      "Data columns (total 16 columns):\n",
      " #   Column                        Non-Null Count  Dtype \n",
      "---  ------                        --------------  ----- \n",
      " 0   index                         25104 non-null  int64 \n",
      " 1   text                          25104 non-null  object\n",
      " 2   edit_history_tweet_ids        25104 non-null  object\n",
      " 3   created_at                    25104 non-null  object\n",
      " 4   id                            25104 non-null  object\n",
      " 5   author_id                     25104 non-null  object\n",
      " 6   context_annotations           15374 non-null  object\n",
      " 7   public_metrics_retweet_count  25104 non-null  int64 \n",
      " 8   public_metrics_reply_count    25104 non-null  int64 \n",
      " 9   public_metrics_like_count     25104 non-null  int64 \n",
      " 10  public_metrics_quote_count    25104 non-null  int64 \n",
      " 11  hashtag                       25104 non-null  object\n",
      " 12  text_no_url                   25104 non-null  object\n",
      " 13  text_no_punc                  25104 non-null  object\n",
      " 14  text_no_punc_lower            25104 non-null  object\n",
      " 15  text_no_punc_lower_no_dig     25104 non-null  object\n",
      "dtypes: int64(5), object(11)\n",
      "memory usage: 3.3+ MB\n"
     ]
    }
   ],
   "source": [
    "results_wk3.info() #forgot to redo indexing, but about 3000 duplicates were removed...weren't there 3000 duplicates total?"
   ]
  }
 ],
 "metadata": {
  "kernelspec": {
   "display_name": "Python 3.8.13 ('classification')",
   "language": "python",
   "name": "python3"
  },
  "language_info": {
   "codemirror_mode": {
    "name": "ipython",
    "version": 3
   },
   "file_extension": ".py",
   "mimetype": "text/x-python",
   "name": "python",
   "nbconvert_exporter": "python",
   "pygments_lexer": "ipython3",
   "version": "3.8.13"
  },
  "orig_nbformat": 4,
  "vscode": {
   "interpreter": {
    "hash": "b161b1c3207380de6396d2091c7e58ae16163ea816ef25fea719df5fe370bcac"
   }
  }
 },
 "nbformat": 4,
 "nbformat_minor": 2
}
